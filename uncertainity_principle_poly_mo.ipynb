{
 "cells": [
  {
   "cell_type": "code",
   "execution_count": 2,
   "metadata": {
    "scrolled": true
   },
   "outputs": [
    {
     "name": "stdout",
     "output_type": "stream",
     "text": [
      "        transcript_id  count\n",
      "1839  ENST00000349363    210\n"
     ]
    }
   ],
   "source": [
    "import pandas as pd\n",
    "import warnings\n",
    "warnings.filterwarnings('ignore')\n",
    "df_polytruth = pd.read_csv('poly_truth.tsv',sep='\\t')\n",
    "#df_quantboot = pd.read_csv('quant_bootstraps.tsv',sep='\\t')\n",
    "df_polytruth\n",
    "#df_quantboot\n",
    "print df_polytruth[df_polytruth['transcript_id']=='ENST00000349363']"
   ]
  },
  {
   "cell_type": "code",
   "execution_count": null,
   "metadata": {
    "collapsed": true
   },
   "outputs": [],
   "source": [
    "df_quantboot = pd.read_csv('quant_bootstraps.tsv',sep='\\t')\n",
    "#df_quantboot['ENST00000349363']"
   ]
  },
  {
   "cell_type": "code",
   "execution_count": null,
   "metadata": {
    "collapsed": true,
    "scrolled": false
   },
   "outputs": [],
   "source": [
    "import numpy as np\n",
    "\n",
    "\n",
    "\n",
    "#df_quantboot['ENST00000382369']\n",
    "\n",
    "df_polytruth['mean']=0\n",
    "df_polytruth['std']=0\n",
    "\n",
    "\n",
    "df_new = df_polytruth\n",
    "#df_new['transcript_id']\n",
    "\n",
    "#for i in df_new.columns:\n",
    "#    print i\n",
    "#mean = df_quantboot[row].mean()\n",
    "    #print df_new[df_new['transcript_id']==i]\n",
    "    #print mean\n",
    "    #df_polytruth['std']= np.std(df_quantboot[i])\n",
    "    \n",
    "    \n",
    "df_new['mean']=0\n",
    "df_new['std']=0\n",
    "df_new['deviation']=0\n",
    "for index,row in df_new.iterrows():\n",
    "    #print row\n",
    "    try:\n",
    "        mean = df_quantboot[row['transcript_id']].mean()\n",
    "   \n",
    "        df_new.loc[df_new.transcript_id==row['transcript_id'],'mean']=mean\n",
    "    \n",
    "        std= np.std(df_quantboot[row['transcript_id']])\n",
    "        df_new.loc[df_new.transcript_id==row['transcript_id'],'std']=std\n",
    "    #print df_new['std']\n",
    "        row['std']=std\n",
    "        row['mean'] = mean\n",
    "        if row['std']!=0:\n",
    "        #print abs(row['count']-row['mean'])/row['std']\n",
    "            df_new.loc[df_new.transcript_id==row['transcript_id'],'deviation']= abs(row['count']-row['mean'])/row['std']\n",
    "    except:\n",
    "        pass\n",
    "    \n",
    "#df_new.apply(test, axis=1)\n",
    "#df_new\n",
    "#df_new.sort_values()\n",
    "df_new=df_new.sort_values('deviation', ascending=False)\n",
    "\n",
    "df_faulty = df_new[df_new['deviation']>2]\n",
    "    \n",
    "df_good = df_new[df_new['deviation']<=2]\n",
    "\n",
    "df_new"
   ]
  },
  {
   "cell_type": "code",
   "execution_count": null,
   "metadata": {
    "collapsed": true
   },
   "outputs": [],
   "source": [
    "df_quantsf = pd.read_csv(\"quant.sf\",sep='\\t')\n",
    "df_faulty_prop=pd.DataFrame(columns=['Name','Length','EffectiveLength','TPM','NumReads','count','mean','std','deviation'])\n",
    "df_good_prop=pd.DataFrame(columns=['Name','Length','EffectiveLength','TPM','NumReads','count','mean','std','deviation'])\n",
    "df_combined = pd.DataFrame(columns=['Name','Length','EffectiveLength','TPM','NumReads','count','mean','std','deviation','faulty'])\n",
    "\n",
    "for index,row in df_faulty.iterrows():\n",
    "    df_faulty_prop = df_faulty_prop.append(df_quantsf[df_quantsf['Name']==row['transcript_id']])\n",
    "    df_faulty_prop.loc[df_faulty_prop.Name==row['transcript_id'],'count']=row['count']\n",
    "    df_faulty_prop.loc[df_faulty_prop.Name==row['transcript_id'],'mean']=row['mean']\n",
    "    df_faulty_prop.loc[df_faulty_prop.Name==row['transcript_id'],'std']=row['std']\n",
    "    df_faulty_prop.loc[df_faulty_prop.Name==row['transcript_id'],'deviation']=row['deviation']\n",
    "    \n",
    "    #for combined\n",
    "    df_combined = df_combined.append(df_quantsf[df_quantsf['Name']==row['transcript_id']])\n",
    "    df_combined.loc[df_combined.Name==row['transcript_id'],'count']=row['count']\n",
    "    df_combined.loc[df_combined.Name==row['transcript_id'],'mean']=row['mean']\n",
    "    df_combined.loc[df_combined.Name==row['transcript_id'],'std']=row['std']\n",
    "    df_combined.loc[df_combined.Name==row['transcript_id'],'deviation']=row['deviation']\n",
    "    df_combined.loc[df_combined.Name==row['transcript_id'],'faulty']=1\n",
    "    #df_temp.loc[index]=df_quantsf[df_quantsf['Name']==row['transcript_id']]\n",
    "for index,row in df_good.iterrows():\n",
    "    df_good_prop = df_good_prop.append(df_quantsf[df_quantsf['Name']==row['transcript_id']])\n",
    "    df_good_prop.loc[df_good_prop.Name==row['transcript_id'],'count']=row['count']\n",
    "    df_good_prop.loc[df_good_prop.Name==row['transcript_id'],'mean']=row['mean']\n",
    "    df_good_prop.loc[df_good_prop.Name==row['transcript_id'],'std']=row['std']\n",
    "    df_good_prop.loc[df_good_prop.Name==row['transcript_id'],'deviation']=row['deviation']\n",
    "    \n",
    "    #for combined\n",
    "    df_combined = df_combined.append(df_quantsf[df_quantsf['Name']==row['transcript_id']])\n",
    "    df_combined.loc[df_combined.Name==row['transcript_id'],'count']=row['count']\n",
    "    df_combined.loc[df_combined.Name==row['transcript_id'],'mean']=row['mean']\n",
    "    df_combined.loc[df_combined.Name==row['transcript_id'],'std']=row['std']\n",
    "    df_combined.loc[df_combined.Name==row['transcript_id'],'deviation']=row['deviation']\n",
    "    df_combined.loc[df_combined.Name==row['transcript_id'],'faulty']=0\n",
    "#df_quantsf[df_quantsf['Name']=='ENST00000342665']\n",
    "#df_good_prop\n",
    "\n",
    "df_good_prop.to_csv(\"good_prop.csv\")\n",
    "\n",
    "df_faulty_prop.to_csv(\"faulty_prop.csv\")\n",
    "\n",
    "df_combined.to_csv(\"combined_result.csv\")\n",
    "df_combined"
   ]
  },
  {
   "cell_type": "code",
   "execution_count": null,
   "metadata": {
    "collapsed": true
   },
   "outputs": [],
   "source": [
    "import matplotlib.pyplot as plt\n",
    "\n",
    "#ax2 = df_faulty_prop.plot(x='Name', y='Length',kind='bar')\n",
    "\n",
    "#df_good_prop.plot(x='Name', y='Length',kind='bar',ax=ax2)\n",
    "\n",
    "#df_faulty_prop.plot(x='Name', y='Length',kind='bar')\n",
    "#plt.show()\n",
    "\n",
    "#df_good_prop.plot(x='Name', y='Length',kind='bar')\n",
    "df_good_prop['Key']='aca'\n",
    "df_faulty_prop['Key']='fdf'\n",
    "DF = pd.concat([df_good_prop,df_faulty_prop],keys=['aca','fdf'])\n",
    "\n",
    "DFGroup = DF.groupby(['Name','Key'])\n",
    "\n",
    "DFG = DFGroup.sum().unstack('Key').plot(kind='bar')\n",
    "\n",
    "plt.show()"
   ]
  },
  {
   "cell_type": "code",
   "execution_count": null,
   "metadata": {
    "collapsed": true
   },
   "outputs": [],
   "source": [
    "#df_faulty_cor = df_faulty_prop[['Length','deviation']].copy()\n",
    "import seaborn as sns\n",
    "import matplotlib.pyplot as plt\n",
    "df_faulty_prop = pd.read_csv(\"faulty_prop.csv\")\n",
    "\n",
    "df_faulty_cor = {'Length':df_faulty_prop['Length'],'deviation':df_faulty_prop['deviation'],'count':df_faulty_prop['count'], 'mean':df_faulty_prop['mean'],'std':df_faulty_prop['std'],'EffectiveLength':df_faulty_prop['EffectiveLength'],'TPM':df_faulty_prop['TPM'],'NumReads':df_faulty_prop['NumReads']}\n",
    "df_faulty_cor = pd.DataFrame(df_faulty_cor).astype('float64')\n",
    "#r = df_faulty_prop['deviation'].astype('float64').corr(df_faulty_prop['EffectiveLength'].astype('float64'))\n",
    "#print r\n",
    "r = df_faulty_cor.corr()\n",
    "print r\n",
    "sns.heatmap(r, fmt=\".2g\", annot=True, cmap=\"viridis\", linewidths=.8)\n",
    "plt.show()"
   ]
  },
  {
   "cell_type": "code",
   "execution_count": null,
   "metadata": {
    "collapsed": true
   },
   "outputs": [],
   "source": [
    "\n",
    "r = df_good_prop['deviation'].astype('float64').corr(df_good_prop['EffectiveLength'].astype('float64'))\n",
    "print r"
   ]
  },
  {
   "cell_type": "markdown",
   "metadata": {},
   "source": [
    "# Scatter Plots"
   ]
  },
  {
   "cell_type": "markdown",
   "metadata": {},
   "source": [
    "GRAPH BETWEEN EFFECTIVE LENGTH AND DEVIATION FOR FAULTY TRANSCRIPTS:"
   ]
  },
  {
   "cell_type": "code",
   "execution_count": null,
   "metadata": {
    "collapsed": true,
    "scrolled": true
   },
   "outputs": [],
   "source": [
    "df_temp = {'EffectiveLength':df_faulty_prop['EffectiveLength'],'deviation':df_faulty_prop['deviation']}\n",
    "df_temp = pd.DataFrame(df_temp)\n",
    "\n",
    "df_temp.plot(kind='scatter', x ='deviation', y ='EffectiveLength',logx=1)\n",
    "plt.show()"
   ]
  },
  {
   "cell_type": "markdown",
   "metadata": {},
   "source": [
    "GRAPH BETWEEN EFFECTIVE LENGTH AND DEVIATION FOR GOOD TRANSCRIPTS:"
   ]
  },
  {
   "cell_type": "code",
   "execution_count": 25,
   "metadata": {},
   "outputs": [
    {
     "data": {
      "image/png": "[encoded data removed]",
      "text/plain": [
       "<matplotlib.figure.Figure at 0xfc4fac8>"
      ]
     },
     "metadata": {},
     "output_type": "display_data"
    }
   ],
   "source": [
    "df_good_prop = pd.read_csv(\"good_prop.csv\")\n",
    "df_temp = {'EffectiveLength':df_good_prop['EffectiveLength'],'deviation':df_good_prop['deviation']}\n",
    "df_temp = pd.DataFrame(df_temp)\n",
    "\n",
    "df_temp.plot(kind='scatter', x ='deviation', y ='EffectiveLength')\n",
    "plt.show()"
   ]
  },
  {
   "cell_type": "markdown",
   "metadata": {},
   "source": [
    "GRAPH BETWEEN TPM AND DEVIATION FOR GOOD TRANSCRIPTS:"
   ]
  },
  {
   "cell_type": "code",
   "execution_count": 28,
   "metadata": {},
   "outputs": [
    {
     "data": {
      "image/png": "[encoded data removed]",
      "text/plain": [
       "<matplotlib.figure.Figure at 0x19902b00>"
      ]
     },
     "metadata": {},
     "output_type": "display_data"
    }
   ],
   "source": [
    "df_good_prop = pd.read_csv(\"good_prop.csv\")\n",
    "df_temp = {'TPM':df_good_prop['TPM'],'deviation':df_good_prop['deviation']}\n",
    "df_temp = pd.DataFrame(df_temp)\n",
    "\n",
    "df_temp.plot(kind='scatter', x ='deviation', y ='TPM')\n",
    "plt.show()"
   ]
  },
  {
   "cell_type": "markdown",
   "metadata": {},
   "source": [
    "GRAPH BETWEEN TPM AND DEVIATION FOR FAULTY TRANSCRIPTS:"
   ]
  },
  {
   "cell_type": "code",
   "execution_count": 35,
   "metadata": {},
   "outputs": [
    {
     "data": {
      "image/png": "[encoded data removed]",
      "text/plain": [
       "<matplotlib.figure.Figure at 0x4a7106a0>"
      ]
     },
     "metadata": {},
     "output_type": "display_data"
    }
   ],
   "source": [
    "\n",
    "df_temp = {'TPM':df_faulty_prop['TPM'],'deviation':df_faulty_prop['deviation']}\n",
    "df_temp = pd.DataFrame(df_temp)\n",
    "\n",
    "df_temp.plot(kind='scatter', x ='deviation', y ='TPM',logx=1)\n",
    "plt.show()"
   ]
  },
  {
   "cell_type": "markdown",
   "metadata": {},
   "source": [
    "# Transripts with TPM greater than 1000 are mostly faulty."
   ]
  },
  {
   "cell_type": "code",
   "execution_count": 36,
   "metadata": {},
   "outputs": [
    {
     "data": {
      "image/png": "[encoded data removed]",
      "text/plain": [
       "<matplotlib.figure.Figure at 0x22dd2710>"
      ]
     },
     "metadata": {},
     "output_type": "display_data"
    }
   ],
   "source": [
    "df_temp = {'NumReads':df_faulty_prop['NumReads'],'deviation':df_faulty_prop['deviation']}\n",
    "df_temp = pd.DataFrame(df_temp)\n",
    "\n",
    "df_temp.plot(kind='scatter', x ='deviation', y ='NumReads',logx=1)\n",
    "plt.show()"
   ]
  },
  {
   "cell_type": "code",
   "execution_count": 4,
   "metadata": {},
   "outputs": [],
   "source": [
    "df_combined = pd.read_csv(\"combined_result.csv\")\n",
    "\n",
    "df_res = df_combined[df_combined['TPM']>1000]\n",
    "\n",
    "df_res.to_csv(\"tpm_rel.csv\")"
   ]
  },
  {
   "cell_type": "code",
   "execution_count": null,
   "metadata": {
    "collapsed": true
   },
   "outputs": [],
   "source": []
  }
 ],
 "metadata": {
  "kernelspec": {
   "display_name": "Python 2",
   "language": "python",
   "name": "python2"
  },
  "language_info": {
   "codemirror_mode": {
    "name": "ipython",
    "version": 2
   },
   "file_extension": ".py",
   "mimetype": "text/x-python",
   "name": "python",
   "nbconvert_exporter": "python",
   "pygments_lexer": "ipython2",
   "version": "2.7.13"
  }
 },
 "nbformat": 4,
 "nbformat_minor": 2
}
